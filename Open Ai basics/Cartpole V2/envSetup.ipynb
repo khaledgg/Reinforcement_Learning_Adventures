{
 "cells": [
  {
   "cell_type": "markdown",
   "metadata": {},
   "source": [
    "## Initialization Testing\n",
    "\n",
    "https://gymnasium.farama.org/content/basic_usage/"
   ]
  },
  {
   "cell_type": "code",
   "execution_count": 1,
   "metadata": {},
   "outputs": [],
   "source": [
    "import gymnasium as gym\n",
    "from tqdm import tqdm"
   ]
  },
  {
   "cell_type": "code",
   "execution_count": 3,
   "metadata": {},
   "outputs": [
    {
     "name": "stderr",
     "output_type": "stream",
     "text": [
      "100%|██████████| 1000/1000 [00:20<00:00, 47.68it/s]\n"
     ]
    }
   ],
   "source": [
    "env = gym.make(\"LunarLander-v2\", render_mode=\"human\")\n",
    "observation, info = env.reset(seed=42)\n",
    "\n",
    "for i in tqdm(range(1000)):\n",
    "   action = env.action_space.sample()  # this is where you would insert your policy\n",
    "   observation, reward, terminated, truncated, info = env.step(action)\n",
    "\n",
    "   if terminated or truncated:\n",
    "      observation, info = env.reset()\n",
    "\n",
    "env.close()"
   ]
  },
  {
   "cell_type": "markdown",
   "metadata": {},
   "source": [
    "# Frozen Lake Tutorial\n",
    "https://aleksandarhaber.com/installation-and-getting-started-with-openai-gym-and-frozen-lake-environment-reinforcement-learning-tutorial/"
   ]
  },
  {
   "cell_type": "code",
   "execution_count": 2,
   "metadata": {},
   "outputs": [],
   "source": [
    "import time"
   ]
  },
  {
   "cell_type": "code",
   "execution_count": 2,
   "metadata": {},
   "outputs": [
    {
     "name": "stdout",
     "output_type": "stream",
     "text": [
      "Initial state of the system\n"
     ]
    },
    {
     "name": "stderr",
     "output_type": "stream",
     "text": [
      "100%|██████████| 20/20 [00:59<00:00,  2.98s/it]\n"
     ]
    }
   ],
   "source": [
    "env=gym.make(\"FrozenLake-v1\",render_mode='human')\n",
    "env.reset()\n",
    "# env.render()\n",
    "print('Initial state of the system')\n",
    "\n",
    "print\n",
    "\n",
    "numLoops = 20\n",
    "maxSteps = 15\n",
    "\n",
    "successful_actions = []\n",
    "\n",
    "for i in tqdm(range(numLoops)):\n",
    "    env.reset()\n",
    "    actions = []\n",
    "    for _ in range(maxSteps):\n",
    "        randomAction= env.action_space.sample()\n",
    "\n",
    "        actions.append(randomAction)\n",
    "\n",
    "        returnValue=env.step(randomAction)\n",
    "        env.render()\n",
    "        if returnValue[2]:\n",
    "            if returnValue[1] == 1:  # if the agent got a reward (success)\n",
    "                successful_actions = actions\n",
    "                print(\"Achieved Goal!\")\n",
    "            break\n",
    "env.close()   "
   ]
  },
  {
   "cell_type": "code",
   "execution_count": 15,
   "metadata": {},
   "outputs": [
    {
     "name": "stdout",
     "output_type": "stream",
     "text": [
      "Possible actions: [0, 1, 2, 3]\n"
     ]
    }
   ],
   "source": [
    "act_space = env.action_space\n",
    "\n",
    "if isinstance(act_space, gym.spaces.Discrete):\n",
    "    num_actions = act_space.n\n",
    "    actions = list(range(num_actions))\n",
    "    print(\"Possible actions:\", actions)\n",
    "\n",
    "elif isinstance(act_space, gym.spaces.Box):\n",
    "    print(\"Action space is continuous with shape:\", act_space.shape)\n",
    "    print(\"Action space low limits:\", act_space.low)\n",
    "    print(\"Action space high limits:\", act_space.high)\n",
    "else:\n",
    "    print(\"Unknown action space type.\")\n"
   ]
  },
  {
   "cell_type": "code",
   "execution_count": 29,
   "metadata": {},
   "outputs": [
    {
     "name": "stdout",
     "output_type": "stream",
     "text": [
      "Possible states: [0, 1, 2, 3, 4, 5, 6, 7, 8, 9, 10, 11, 12, 13, 14, 15]\n"
     ]
    }
   ],
   "source": [
    "obs_space = env.observation_space\n",
    "\n",
    "if isinstance(obs_space, gym.spaces.Discrete):\n",
    "    num_states = obs_space.n\n",
    "    states = list(range(num_states))\n",
    "    print(\"Possible states:\", states)\n"
   ]
  }
 ],
 "metadata": {
  "kernelspec": {
   "display_name": "Python 3",
   "language": "python",
   "name": "python3"
  },
  "language_info": {
   "codemirror_mode": {
    "name": "ipython",
    "version": 3
   },
   "file_extension": ".py",
   "mimetype": "text/x-python",
   "name": "python",
   "nbconvert_exporter": "python",
   "pygments_lexer": "ipython3",
   "version": "3.9.13"
  },
  "orig_nbformat": 4
 },
 "nbformat": 4,
 "nbformat_minor": 2
}
